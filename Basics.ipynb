{
 "cells": [
  {
   "cell_type": "markdown",
   "metadata": {},
   "source": [
    "# Profitable App Profiles for the App Store and Google Play Markets\n",
    "\n",
    "We are a game development group only building apps that are free to \n",
    "download and install, and our main source of revenue consists of in-app ads. This means that the number of users of our apps determines our revenue for any given app — the more users who see and engage with the ads, the better.\n",
    "\n",
    "Therefore the goal for this project is to analyze data to help our developers understand what type of apps are likely to attract more users. To do this, we will need to collect and analyze about mobile apps available on Google Play and the App Store."
   ]
  },
  {
   "cell_type": "markdown",
   "metadata": {},
   "source": [
    "As of September 2018, there were approximately 2 million iOS apps available on the App Store, and 2.1 million Android apps on Google Play. Collecting data for over 4 million apps requires a significant amount of time and money, so we'll try to analyze a sample of the data instead. To avoid spending resources on collecting new data ourselves, we should first try to see if we can find any relevant existing data at no cost. Luckily, there are  two datasets suitable for our goals.\n",
    "\n",
    "   - [A dataset](https://www.kaggle.com/lava18/google-play-store-apps?select=googleplaystore.csv) containing data about approximately 10,000 Android apps from Google Play; the data was collected in August 2018. You can download the data set directly from [this link](https://dq-content.s3.amazonaws.com/350/googleplaystore.csv).\n",
    "\n",
    "   - [A dataset](https://www.kaggle.com/ramamet4/app-store-apple-data-set-10k-apps) containing data about approximately 7,000 iOS apps from the App Store; the data was collected in July 2017. You can download the data set directly from [this link](https://dq-content.s3.amazonaws.com/350/AppleStore.csv).\n",
    "\n",
    "Let's start by opening the two data sets and then continue with exploring the data.\n",
    "    "
   ]
  },
  {
   "cell_type": "code",
   "execution_count": 1,
   "metadata": {
    "scrolled": false
   },
   "outputs": [
    {
     "name": "stdout",
     "output_type": "stream",
     "text": [
      "['App', 'Category', 'Rating', 'Reviews', 'Size', 'Installs', 'Type', 'Price', 'Content Rating', 'Genres', 'Last Updated', 'Current Ver', 'Android Ver']\n",
      "\n",
      "\n",
      "['Photo Editor & Candy Camera & Grid & ScrapBook', 'ART_AND_DESIGN', '4.1', '159', '19M', '10,000+', 'Free', '0', 'Everyone', 'Art & Design', 'January 7, 2018', '1.0.0', '4.0.3 and up']\n",
      "\n",
      "\n",
      "['Coloring book moana', 'ART_AND_DESIGN', '3.9', '967', '14M', '500,000+', 'Free', '0', 'Everyone', 'Art & Design;Pretend Play', 'January 15, 2018', '2.0.0', '4.0.3 and up']\n",
      "\n",
      "\n",
      "['id', 'track_name', 'size_bytes', 'currency', 'price', 'rating_count_tot', 'rating_count_ver', 'user_rating', 'user_rating_ver', 'ver', 'cont_rating', 'prime_genre', 'sup_devices.num', 'ipadSc_urls.num', 'lang.num', 'vpp_lic']\n",
      "\n",
      "\n",
      "['284882215', 'Facebook', '389879808', 'USD', '0.0', '2974676', '212', '3.5', '3.5', '95.0', '4+', 'Social Networking', '37', '1', '29', '1']\n",
      "\n",
      "\n",
      "['389801252', 'Instagram', '113954816', 'USD', '0.0', '2161558', '1289', '4.5', '4.0', '10.23', '12+', 'Photo & Video', '37', '0', '29', '1']\n"
     ]
    }
   ],
   "source": [
    "from csv import reader\n",
    "\n",
    "opened_file = open('googleplaystore.csv')\n",
    "read_file = reader(opened_file)\n",
    "android = list(read_file)\n",
    "android_header = android[0]\n",
    "android_apps_data = android[1:]\n",
    "print(android_header)\n",
    "print('\\n')\n",
    "print(android_apps_data[0])\n",
    "print('\\n')\n",
    "print(android_apps_data[1])\n",
    "print('\\n')\n",
    "\n",
    "opened_file = open('AppleStore.csv')\n",
    "read_file = reader(opened_file)\n",
    "apple = list(read_file)\n",
    "apple_header = apple[0]\n",
    "apple_apps_data = apple[1:]\n",
    "print(apple_header)\n",
    "print('\\n')\n",
    "print(apple_apps_data[0])\n",
    "print('\\n')\n",
    "print(apple_apps_data[1])\n"
   ]
  },
  {
   "cell_type": "markdown",
   "metadata": {},
   "source": [
    "## Data cleaning\n",
    "\n",
    "Before beginning our analysis, we need to clean our data properly otherwise the results of our analysis will be inaccurate. This means that we need to do the following:\n",
    "   - Detect inaccurate data, and correct or remove it.\n",
    "   - Detect duplicate data, and remove the duplicates.\n",
    "\n",
    "The Google Play dataset has a dedicated discussion section, and we can see that [one of the discussions](https://www.kaggle.com/lava18/google-play-store-apps/discussion/66015) describes an error for a certain row.\n",
    "\n",
    "There is one row missing a field. So now we need to determine the index of this row."
   ]
  },
  {
   "cell_type": "code",
   "execution_count": 2,
   "metadata": {},
   "outputs": [
    {
     "name": "stdout",
     "output_type": "stream",
     "text": [
      "10472\n",
      "['Life Made WI-Fi Touchscreen Photo Frame', '1.9', '19', '3.0M', '1,000+', 'Free', '0', 'Everyone', '', 'February 11, 2018', '1.0.19', '4.0 and up']\n"
     ]
    }
   ],
   "source": [
    "index_incomplete_entry = 0 \n",
    "for app in android_apps_data:\n",
    "    if len(app) != len(android_header):\n",
    "        index_incomplete_entry = android_apps_data.index(app)\n",
    "        break\n",
    "print(index_incomplete_entry)\n",
    "print(android_apps_data[index_incomplete_entry])\n",
    "\n",
    "# Remove the incomplete row\n",
    "del android_apps_data[index_incomplete_entry]"
   ]
  },
  {
   "cell_type": "code",
   "execution_count": 3,
   "metadata": {},
   "outputs": [
    {
     "name": "stdout",
     "output_type": "stream",
     "text": [
      "None\n"
     ]
    }
   ],
   "source": [
    "# Now to see if this row is removed\n",
    "index_incomplete_entry = None \n",
    "for app in android_apps_data:\n",
    "    if len(app) != len(android_header):\n",
    "        index_incomplete_entry = android_apps_data.index(app)\n",
    "        break\n",
    "print(index_incomplete_entry)"
   ]
  },
  {
   "cell_type": "code",
   "execution_count": 4,
   "metadata": {
    "scrolled": true
   },
   "outputs": [
    {
     "name": "stdout",
     "output_type": "stream",
     "text": [
      "['App', 'Category', 'Rating', 'Reviews', 'Size', 'Installs', 'Type', 'Price', 'Content Rating', 'Genres', 'Last Updated', 'Current Ver', 'Android Ver']\n",
      "10840\n",
      "Number of unique apps:  9659\n",
      "The first 10 unique apps:  ['Photo Editor & Candy Camera & Grid & ScrapBook', 'Coloring book moana', 'U Launcher Lite – FREE Live Cool Themes, Hide Apps', 'Sketch - Draw & Paint', 'Pixel Draw - Number Art Coloring Book', 'Paper flowers instructions', 'Smoke Effect Photo Maker - Smoke Editor', 'Infinite Painter', 'Garden Coloring Book', 'Kids Paint Free - Drawing Fun']\n",
      "Number of duplicated apps:  1181\n",
      "The first 10 duplicated apps:  ['Quick PDF Scanner + OCR FREE', 'Box', 'Google My Business', 'ZOOM Cloud Meetings', 'join.me - Simple Meetings', 'Box', 'Zenefits', 'Google Ads', 'Google My Business', 'Slack']\n"
     ]
    }
   ],
   "source": [
    "# Removing the duplicated entries, entries with the same app name\n",
    "# ['App', 'Category', 'Rating', 'Reviews', 'Size', 'Installs', 'Type', '\n",
    "# Price', 'Content Rating', 'Genres', 'Last Updated', 'Current Ver', \n",
    "# 'Android Ver']\n",
    "# It can be seen that only colume 'App' should be the Primary key to uniquely\n",
    "# identify apps\n",
    "\n",
    "# You can find more information from this discussion link\n",
    "# https://www.kaggle.com/lava18/google-play-store-apps/discussion\n",
    "\n",
    "# This code is to find out the entries with dupliated name\n",
    "print(android_header)\n",
    "unique_apps = []\n",
    "duplicate_apps = []\n",
    "print(len(android_apps_data))\n",
    "for app in android_apps_data:\n",
    "    if app[0] in unique_apps:\n",
    "        duplicate_apps.append(app[0])\n",
    "    else:\n",
    "        unique_apps.append((app[0]))\n",
    "print('Number of unique apps: ', len(unique_apps))\n",
    "print('The first 10 unique apps: ', (unique_apps[0:10]))\n",
    "print('Number of duplicated apps: ', len(duplicate_apps))\n",
    "print('The first 10 duplicated apps: ', duplicate_apps[0:10])"
   ]
  },
  {
   "cell_type": "code",
   "execution_count": 5,
   "metadata": {
    "scrolled": false
   },
   "outputs": [
    {
     "name": "stdout",
     "output_type": "stream",
     "text": [
      "9659\n"
     ]
    }
   ],
   "source": [
    "# In this section, we need to create a list called android_clean\n",
    "# containing unique apps with the highest number of reviews of each app\n",
    "# index of app name is 0, index of review number is 3\n",
    "\n",
    "android_clean = []\n",
    "# android_dict store the app entry with the highest review\n",
    "# {'Garden Coloring Book': (8, 1000)}\n",
    "# 8 is the index of this app entry in android_apps_data\n",
    "# 1000 is the highest review number of this app\n",
    "# This step is to create a dictionary to contain all apps with the hightest review number\n",
    "android_dict = {}\n",
    "for app in android_apps_data:\n",
    "    name = app[0]\n",
    "    if name in android_dict:\n",
    "        if android_dict[name][1] < app[3]:\n",
    "            del android_dict[name]\n",
    "            android_dict[name] = (android_apps_data.index(app), app[3])\n",
    "    else:\n",
    "        android_dict[name] = (android_apps_data.index(app), app[3])\n",
    "\n",
    "# This step is just to \n",
    "for key in android_dict:\n",
    "    index = android_dict[key][0]\n",
    "    android_clean.append(android_apps_data[index])\n",
    "    \n",
    "# inspect the length of android_clean, it should be 9659\n",
    "print(len(android_clean))\n"
   ]
  },
  {
   "cell_type": "markdown",
   "metadata": {},
   "source": [
    "**Filtering out those English-speaking apps**\n",
    "\n",
    "Remember we use English for the apps we develop at our company, and we'd like to analyze only the apps that are designed for an English-speaking audience. However, if we explore the data long enough, we'll find that both datasets have apps with names that suggest they are not designed for an English-speaking audience. We're not interested in keeping these apps, so we'll remove them. \n",
    "\n",
    "One way to do this is to remove each app with a name containing a symbol that isn't commonly used in English text — English text usually includes letters from the English alphabet, numbers composed of digits from 0 to 9, punctuation marks (., !, ?, ;), and other symbols (+, *, /).\n",
    "\n",
    "We can get the corresponding number of each character using the ord() built-in function."
   ]
  },
  {
   "cell_type": "markdown",
   "metadata": {},
   "source": [
    "First step is to write a function that takes in a string and returns False if there's any character in the string that doesn't belong to the set of common English characters; otherwise, the function returns True."
   ]
  },
  {
   "cell_type": "code",
   "execution_count": 6,
   "metadata": {},
   "outputs": [
    {
     "name": "stdout",
     "output_type": "stream",
     "text": [
      "False\n"
     ]
    }
   ],
   "source": [
    "# The numbers corresponding to the characters we commonly use in an English \n",
    "# text are all in the range 0 to 127, according to the ASCII \n",
    "# (American Standard Code for Information Interchange) system. Based on this\n",
    "# number range, we can build a function that detects whether a character \n",
    "# belongs to the set of common English characters or not. \n",
    "# If the number is equal to or less than 127, then the character belongs to \n",
    "# the set of common English characters.\n",
    "# If number of charactor falling outside the english text ACSII range is more than 3,\n",
    "# Then this text is considered non-english text\n",
    "def is_english_title(str):\n",
    "    count = 0\n",
    "    for c in str:\n",
    "        if ord(c) > 127:\n",
    "            count += 1;\n",
    "            if count >= 3:\n",
    "                return False\n",
    "    return True\n",
    "print(is_english_title('Instachat 😜😜😜'))"
   ]
  },
  {
   "cell_type": "markdown",
   "metadata": {},
   "source": [
    "Use the new function to filter out non-English apps from both datasets. Loop through each dataset. If an app name is identified as English, append the whole row to a separate list.Explore the datasets and see how many rows you have remaining for each dataset.\n"
   ]
  },
  {
   "cell_type": "code",
   "execution_count": 7,
   "metadata": {
    "scrolled": true
   },
   "outputs": [
    {
     "name": "stdout",
     "output_type": "stream",
     "text": [
      "9597\n",
      "6155\n"
     ]
    }
   ],
   "source": [
    "# Android app dataset\n",
    "android_clean_english_apps = []\n",
    "for app in android_clean:\n",
    "    if is_english_title(app[0]):\n",
    "        android_clean_english_apps.append(app)\n",
    "print(len(android_clean_english_apps))\n",
    "\n",
    "# Apple apps\n",
    "apple_apps_data_english = []\n",
    "for app in apple_apps_data:\n",
    "    if is_english_title(app[1]):\n",
    "        apple_apps_data_english.append(app)\n",
    "print(len(apple_apps_data_english))\n"
   ]
  },
  {
   "cell_type": "markdown",
   "metadata": {},
   "source": [
    "So far in the data cleaning process, we've done the following:\n",
    "\n",
    "   * Removed inaccurate data \n",
    "   * Removed duplicate app entries\n",
    "   * Removed non-English apps\n",
    "   * Isolating the free apps (will be done in the next section)\n",
    "   \n",
    "As we mentioned in the introduction, we only build apps that are free to download and install, and our main source of revenue consists of in-app ads. Our datasets contain both free and non-free apps; we'll need to isolate only the free apps for our analysis.\n",
    "\n",
    "Isolating the free apps will be our last step in the data cleaning process. On the next screen, we're going to start analyzing the data."
   ]
  },
  {
   "cell_type": "code",
   "execution_count": 8,
   "metadata": {},
   "outputs": [
    {
     "name": "stdout",
     "output_type": "stream",
     "text": [
      "8846\n",
      "3203\n"
     ]
    }
   ],
   "source": [
    "# Filtering out the free apps\n",
    "# Price index in android is 7, Price index in apple is 4\n",
    "\n",
    "def extract_price(str):\n",
    "    if str[0] == '$':\n",
    "        str = str[1:]\n",
    "    return float(str)\n",
    "\n",
    "android_free_apps = []\n",
    "for app in android_clean_english_apps:\n",
    "    float_price = extract_price(app[7])\n",
    "    if float_price == 0.0:\n",
    "        android_free_apps.append(app)\n",
    "apple_free_apps = []\n",
    "for app in apple_apps_data_english:\n",
    "    float_price = extract_price(app[4])\n",
    "    if float_price == 0.0:\n",
    "        apple_free_apps.append(app)\n",
    "\n",
    "print(len(android_free_apps))\n",
    "print(len(apple_free_apps))"
   ]
  },
  {
   "cell_type": "markdown",
   "metadata": {},
   "source": [
    "## App Validation \n",
    "\n",
    "As we mentioned in the introduction, our goal is to determine the kinds of apps that are likely to attract more users because the number of people using our apps affect our revenue.\n",
    "\n",
    "To minimize risks and overhead, our validation strategy for an app idea has three steps:\n",
    "\n",
    "   1. Build a minimal Android version of the app, and add it to Google Play.\n",
    "   2. If the app has a good response from users, we develop it further.\n",
    "   3. If the app is profitable after six months, we build an iOS version of the app and add it to the App Store.\n",
    "   \n",
    "Because our end goal is to add the app on both Google Play and the App Store, we need to find app profiles that are successful in both markets. For instance, a profile that works well for both markets might be a productivity app that makes use of gamification.\n",
    "\n",
    "Let's begin the analysis by determining the most common genres for each market. For this, we'll need to build frequency tables for a few columns in our datasets.\n",
    "\n",
    "Let's first inspect both data sets and identify the columns we could use to generate frequency tables to determine the most common genres in each market."
   ]
  },
  {
   "cell_type": "code",
   "execution_count": 9,
   "metadata": {},
   "outputs": [
    {
     "name": "stdout",
     "output_type": "stream",
     "text": [
      "[('App', 'U Launcher Lite – FREE Live Cool Themes, Hide Apps'), ('Category', 'ART_AND_DESIGN'), ('Rating', '4.7'), ('Reviews', '87510'), ('Size', '8.7M'), ('Installs', '5,000,000+'), ('Type', 'Free'), ('Price', '0'), ('Content Rating', 'Everyone'), ('Genres', 'Art & Design'), ('Last Updated', 'August 1, 2018'), ('Current Ver', '1.2.4'), ('Android Ver', '4.0.3 and up')]\n",
      "\n",
      "\n",
      "[('id', '284882215'), ('track_name', 'Facebook'), ('size_bytes', '389879808'), ('currency', 'USD'), ('price', '0.0'), ('rating_count_tot', '2974676'), ('rating_count_ver', '212'), ('user_rating', '3.5'), ('user_rating_ver', '3.5'), ('ver', '95.0'), ('cont_rating', '4+'), ('prime_genre', 'Social Networking'), ('sup_devices.num', '37'), ('ipadSc_urls.num', '1'), ('lang.num', '29'), ('vpp_lic', '1')]\n"
     ]
    }
   ],
   "source": [
    "print(list(zip(android_header, android_apps_data[2])))\n",
    "print('\\n')\n",
    "print(list(zip(apple_header, apple_apps_data[0])))"
   ]
  },
  {
   "cell_type": "markdown",
   "metadata": {},
   "source": [
    "For Android apps, we will use 'Category' and 'Genres' to create frequency table， indexes are 1 and 9. For Apple apps, we will use 'prime_genre' to create frequency table, index is 11."
   ]
  },
  {
   "cell_type": "code",
   "execution_count": 10,
   "metadata": {},
   "outputs": [],
   "source": [
    "def freq_table(apps_data, index):\n",
    "    freq_table = {}\n",
    "    for app in apps_data:\n",
    "        if app[index] in freq_table:\n",
    "            freq_table[app[index]] += 1\n",
    "        else:\n",
    "            freq_table[app[index]] = 1\n",
    "    for key in freq_table:\n",
    "        freq = round(freq_table[key] / len(apps_data) * 100, 2)\n",
    "        freq_table[key] = (freq, freq_table[key]) \n",
    "    return freq_table"
   ]
  },
  {
   "cell_type": "code",
   "execution_count": 11,
   "metadata": {},
   "outputs": [],
   "source": [
    "# display the frequency table in a descending order\n",
    "def display_table(freq_table):\n",
    "    table_display = []\n",
    "    for key in freq_table:\n",
    "        value_key_tuple = (freq_table[key], key)\n",
    "        table_display.append(value_key_tuple)\n",
    "    table_sorted = sorted(table_display, reverse = True)\n",
    "    for entry in table_sorted:\n",
    "        print(entry[1], ':', entry[0])"
   ]
  },
  {
   "cell_type": "markdown",
   "metadata": {},
   "source": [
    "## Frequency table analysis\n",
    "\n",
    "We'll now focus on analyzing these frequency tables. \n",
    "   \n",
    "Analyze the frequency table you generated for the prime_genre column of the App Store dataset.\n",
    "\n",
    "   * What is the most common genre? What is the next most common?\n",
    "   * What other patterns do you see?\n",
    "   * What is the general impression — are most of the apps designed for practical purposes (education, shopping, utilities, productivity, lifestyle) or more for entertainment (games, photo and video, social networking, sports, music)?\n",
    "   * Can you recommend an app profile for the App Store market based on this frequency table alone? If there's a large number of apps for a particular genre, does that also imply that apps of that genre generally have a large number of users?\n",
    "\n",
    "Analyze the frequency table you generated for the Category and Genres column of \n",
    "the Google Play dataset.\n",
    "   * What are the most common genres?\n",
    "   * What other patterns do you see?\n",
    "   * Compare the patterns you see for the Google Play market with those you saw for the App Store market.\n",
    "   * Can you recommend an app profile based on what you found so far? Do the frequency tables you generated reveal the most frequent app genres or what genres have the most users?"
   ]
  },
  {
   "cell_type": "code",
   "execution_count": 12,
   "metadata": {},
   "outputs": [
    {
     "name": "stdout",
     "output_type": "stream",
     "text": [
      "Apple apps by prime_genres\n",
      "Games : (58.26, 1866)\n",
      "Entertainment : (7.84, 251)\n",
      "Photo & Video : (5.0, 160)\n",
      "Education : (3.68, 118)\n",
      "Social Networking : (3.31, 106)\n",
      "Shopping : (2.59, 83)\n",
      "Utilities : (2.47, 79)\n",
      "Sports : (2.15, 69)\n",
      "Music : (2.06, 66)\n",
      "Health & Fitness : (2.03, 65)\n",
      "Productivity : (1.75, 56)\n",
      "Lifestyle : (1.56, 50)\n",
      "News : (1.34, 43)\n",
      "Travel : (1.25, 40)\n",
      "Finance : (1.09, 35)\n",
      "Weather : (0.87, 28)\n",
      "Food & Drink : (0.81, 26)\n",
      "Reference : (0.53, 17)\n",
      "Business : (0.53, 17)\n",
      "Book : (0.37, 12)\n",
      "Navigation : (0.19, 6)\n",
      "Medical : (0.19, 6)\n",
      "Catalogs : (0.12, 4)\n"
     ]
    }
   ],
   "source": [
    "print('Apple apps by prime_genres')\n",
    "display_table(freq_table(apple_free_apps,11))"
   ]
  },
  {
   "cell_type": "markdown",
   "metadata": {},
   "source": [
    "We can see that among the free English apps, more than a half (55.65%) are games. Entertainment apps are sightly more than 8%, followed by photo and video apps, which are slightly more than 4%. Only 3.53% of the apps are designed for education, followed by social networking apps which amount for 3.29% of the apps in our data set.\n",
    "\n",
    "The general impression is that App Store (at least the part containing free English apps) is dominated by apps that are designed for fun (games, entertainment, photo and video, social networking, sports, music, etc.), while apps with practical purposes (education, shopping, utilities, productivity, lifestyle, etc.) are more rare. However, the fact that fun apps are the most numerous doesn't also imply that they also have the greatest number of users — the demand might not be the same as the offer.\n",
    "\n",
    "Let's continue by examining the Genres and Category columns of the Google Play data set (two columns which seem to be related)."
   ]
  },
  {
   "cell_type": "code",
   "execution_count": 13,
   "metadata": {},
   "outputs": [
    {
     "name": "stdout",
     "output_type": "stream",
     "text": [
      "Google apps by Category\n",
      "FAMILY : (18.97, 1678)\n",
      "GAME : (9.67, 855)\n",
      "TOOLS : (8.44, 747)\n",
      "BUSINESS : (4.6, 407)\n",
      "PRODUCTIVITY : (3.9, 345)\n",
      "LIFESTYLE : (3.89, 344)\n",
      "FINANCE : (3.71, 328)\n",
      "MEDICAL : (3.53, 312)\n",
      "SPORTS : (3.39, 300)\n",
      "PERSONALIZATION : (3.32, 294)\n",
      "COMMUNICATION : (3.23, 286)\n",
      "HEALTH_AND_FITNESS : (3.09, 273)\n",
      "PHOTOGRAPHY : (2.95, 261)\n",
      "NEWS_AND_MAGAZINES : (2.8, 248)\n",
      "SOCIAL : (2.67, 236)\n",
      "TRAVEL_AND_LOCAL : (2.34, 207)\n",
      "SHOPPING : (2.25, 199)\n",
      "BOOKS_AND_REFERENCE : (2.14, 189)\n",
      "DATING : (1.87, 165)\n",
      "VIDEO_PLAYERS : (1.8, 159)\n",
      "MAPS_AND_NAVIGATION : (1.39, 123)\n",
      "FOOD_AND_DRINK : (1.24, 110)\n",
      "EDUCATION : (1.18, 104)\n",
      "ENTERTAINMENT : (0.96, 85)\n",
      "LIBRARIES_AND_DEMO : (0.94, 83)\n",
      "AUTO_AND_VEHICLES : (0.93, 82)\n",
      "HOUSE_AND_HOME : (0.8, 71)\n",
      "WEATHER : (0.79, 70)\n",
      "EVENTS : (0.71, 63)\n",
      "PARENTING : (0.66, 58)\n",
      "ART_AND_DESIGN : (0.64, 57)\n",
      "COMICS : (0.61, 54)\n",
      "BEAUTY : (0.6, 53)\n"
     ]
    }
   ],
   "source": [
    "print('Google apps by Category')\n",
    "display_table(freq_table(android_free_apps,1))"
   ]
  },
  {
   "cell_type": "markdown",
   "metadata": {},
   "source": [
    "The landscape seems significantly different on Google Play: there are not that many apps designed for fun, and it seems that a good number of apps are designed for practical purposes (family, tools, business, lifestyle, productivity, etc.).However, if we investigate this further, we can see that the family category (which accounts for almost 19% of the apps) means mostly games for kids."
   ]
  },
  {
   "cell_type": "code",
   "execution_count": 14,
   "metadata": {},
   "outputs": [
    {
     "name": "stdout",
     "output_type": "stream",
     "text": [
      "Google apps by Genres\n",
      "Tools : (8.43, 746)\n",
      "Entertainment : (6.08, 538)\n",
      "Education : (5.36, 474)\n",
      "Business : (4.6, 407)\n",
      "Productivity : (3.9, 345)\n",
      "Lifestyle : (3.88, 343)\n",
      "Finance : (3.71, 328)\n",
      "Medical : (3.53, 312)\n",
      "Sports : (3.46, 306)\n",
      "Personalization : (3.32, 294)\n",
      "Communication : (3.23, 286)\n",
      "Action : (3.1, 274)\n",
      "Health & Fitness : (3.09, 273)\n",
      "Photography : (2.95, 261)\n",
      "News & Magazines : (2.8, 248)\n",
      "Social : (2.67, 236)\n",
      "Travel & Local : (2.33, 206)\n",
      "Shopping : (2.25, 199)\n",
      "Books & Reference : (2.14, 189)\n",
      "Simulation : (2.05, 181)\n",
      "Dating : (1.87, 165)\n",
      "Arcade : (1.84, 163)\n",
      "Video Players & Editors : (1.77, 157)\n",
      "Casual : (1.75, 155)\n",
      "Maps & Navigation : (1.39, 123)\n",
      "Food & Drink : (1.24, 110)\n",
      "Puzzle : (1.13, 100)\n",
      "Racing : (0.99, 88)\n",
      "Role Playing : (0.94, 83)\n",
      "Libraries & Demo : (0.94, 83)\n",
      "Auto & Vehicles : (0.93, 82)\n",
      "Strategy : (0.92, 81)\n",
      "House & Home : (0.8, 71)\n",
      "Weather : (0.79, 70)\n",
      "Events : (0.71, 63)\n",
      "Adventure : (0.67, 59)\n",
      "Comics : (0.6, 53)\n",
      "Beauty : (0.6, 53)\n",
      "Art & Design : (0.6, 53)\n",
      "Parenting : (0.5, 44)\n",
      "Card : (0.44, 39)\n",
      "Trivia : (0.42, 37)\n",
      "Casino : (0.42, 37)\n",
      "Educational;Education : (0.4, 35)\n",
      "Educational : (0.37, 33)\n",
      "Board : (0.37, 33)\n",
      "Education;Education : (0.34, 30)\n",
      "Word : (0.26, 23)\n",
      "Casual;Pretend Play : (0.24, 21)\n",
      "Music : (0.2, 18)\n",
      "Puzzle;Brain Games : (0.18, 16)\n",
      "Racing;Action & Adventure : (0.17, 15)\n",
      "Entertainment;Music & Video : (0.17, 15)\n",
      "Casual;Brain Games : (0.14, 12)\n",
      "Casual;Action & Adventure : (0.14, 12)\n",
      "Arcade;Action & Adventure : (0.12, 11)\n",
      "Action;Action & Adventure : (0.1, 9)\n",
      "Educational;Pretend Play : (0.09, 8)\n",
      "Board;Brain Games : (0.09, 8)\n",
      "Simulation;Action & Adventure : (0.08, 7)\n",
      "Parenting;Education : (0.08, 7)\n",
      "Entertainment;Brain Games : (0.08, 7)\n",
      "Parenting;Music & Video : (0.07, 6)\n",
      "Educational;Brain Games : (0.07, 6)\n",
      "Casual;Creativity : (0.07, 6)\n",
      "Art & Design;Creativity : (0.07, 6)\n",
      "Education;Pretend Play : (0.06, 5)\n",
      "Role Playing;Pretend Play : (0.05, 4)\n",
      "Education;Creativity : (0.05, 4)\n",
      "Role Playing;Action & Adventure : (0.03, 3)\n",
      "Puzzle;Action & Adventure : (0.03, 3)\n",
      "Entertainment;Creativity : (0.03, 3)\n",
      "Entertainment;Action & Adventure : (0.03, 3)\n",
      "Educational;Creativity : (0.03, 3)\n",
      "Educational;Action & Adventure : (0.03, 3)\n",
      "Education;Music & Video : (0.03, 3)\n",
      "Education;Brain Games : (0.03, 3)\n",
      "Education;Action & Adventure : (0.03, 3)\n",
      "Adventure;Action & Adventure : (0.03, 3)\n",
      "Video Players & Editors;Music & Video : (0.02, 2)\n",
      "Sports;Action & Adventure : (0.02, 2)\n",
      "Simulation;Pretend Play : (0.02, 2)\n",
      "Puzzle;Creativity : (0.02, 2)\n",
      "Music;Music & Video : (0.02, 2)\n",
      "Entertainment;Pretend Play : (0.02, 2)\n",
      "Casual;Education : (0.02, 2)\n",
      "Board;Action & Adventure : (0.02, 2)\n",
      "Video Players & Editors;Creativity : (0.01, 1)\n",
      "Trivia;Education : (0.01, 1)\n",
      "Travel & Local;Action & Adventure : (0.01, 1)\n",
      "Tools;Education : (0.01, 1)\n",
      "Strategy;Education : (0.01, 1)\n",
      "Strategy;Creativity : (0.01, 1)\n",
      "Strategy;Action & Adventure : (0.01, 1)\n",
      "Simulation;Education : (0.01, 1)\n",
      "Role Playing;Brain Games : (0.01, 1)\n",
      "Racing;Pretend Play : (0.01, 1)\n",
      "Puzzle;Education : (0.01, 1)\n",
      "Parenting;Brain Games : (0.01, 1)\n",
      "Music & Audio;Music & Video : (0.01, 1)\n",
      "Lifestyle;Pretend Play : (0.01, 1)\n",
      "Lifestyle;Education : (0.01, 1)\n",
      "Health & Fitness;Education : (0.01, 1)\n",
      "Health & Fitness;Action & Adventure : (0.01, 1)\n",
      "Entertainment;Education : (0.01, 1)\n",
      "Communication;Creativity : (0.01, 1)\n",
      "Comics;Creativity : (0.01, 1)\n",
      "Casual;Music & Video : (0.01, 1)\n",
      "Card;Brain Games : (0.01, 1)\n",
      "Card;Action & Adventure : (0.01, 1)\n",
      "Books & Reference;Education : (0.01, 1)\n",
      "Art & Design;Pretend Play : (0.01, 1)\n",
      "Art & Design;Action & Adventure : (0.01, 1)\n",
      "Arcade;Pretend Play : (0.01, 1)\n",
      "Adventure;Education : (0.01, 1)\n"
     ]
    }
   ],
   "source": [
    "print('Google apps by Genres')\n",
    "display_table(freq_table(android_free_apps,9))"
   ]
  },
  {
   "cell_type": "markdown",
   "metadata": {},
   "source": [
    "\n",
    "The difference between the Genres and the Category columns is not crystal clear, but one thing we can notice is that the Genres column is much more granular (it has more categories). We're only looking for the bigger picture at the moment, so we'll only work with the Category column moving forward.\n",
    "\n",
    "Up to this point, we found that the App Store is dominated by apps designed for fun, while Google Play shows a more balanced landscape of both practical and for-fun apps. Now we'd like to get an idea about the kind of apps that have most users.\n",
    "\n",
    "## Most Popular Apps by Genre on the App Store \n",
    "\n",
    "One way to find out what genres are the most popular (have the most users) is to calculate the average number of installs for each app genre. For the Google Play data set, we can find this information in the Installs column, but this information is missing for the App Store data set. As a workaround, we'll take the total number of user ratings as a proxy, which we can find in the rating_count_tot app."
   ]
  },
  {
   "cell_type": "markdown",
   "metadata": {},
   "source": [
    "Let's start with calculating the average number of user ratings per app genre on the App Store."
   ]
  },
  {
   "cell_type": "code",
   "execution_count": 21,
   "metadata": {
    "scrolled": false
   },
   "outputs": [
    {
     "name": "stdout",
     "output_type": "stream",
     "text": [
      "Navigation : 86090\n",
      "Reference : 79350\n",
      "Social Networking : 71548\n",
      "Music : 57326\n",
      "Weather : 52279\n",
      "Book : 46384\n",
      "Food & Drink : 33333\n",
      "Finance : 32367\n",
      "Photo & Video : 28441\n",
      "Travel : 28243\n",
      "Shopping : 27230\n",
      "Health & Fitness : 23298\n",
      "Sports : 23008\n",
      "Games : 22886\n",
      "News : 21248\n",
      "Productivity : 21028\n",
      "Utilities : 19156\n",
      "Lifestyle : 16815\n",
      "Entertainment : 14195\n",
      "Business : 7491\n",
      "Education : 7003\n",
      "Catalogs : 4004\n",
      "Medical : 612\n"
     ]
    }
   ],
   "source": [
    "apple_total_number_install = {}\n",
    "for app in apple_free_apps:\n",
    "    if app[11] in apple_total_number_install:\n",
    "        apple_total_number_install[app[11]] += float(app[5])\n",
    "    else:\n",
    "        apple_total_number_install[app[11]] = float(app[5])\n",
    "apple_avg_number_install = {}\n",
    "apple_freq_table_by_catogory = freq_table(apple_free_apps, 11)\n",
    "for category in apple_freq_table_by_catogory:\n",
    "    apple_avg_number_install[category] = \\\n",
    "        int(apple_total_number_install[category] / \\\n",
    "            (apple_freq_table_by_catogory[category][1]))\n",
    "\n",
    "# print the apple_freq_table_by_catogory in a table format\n",
    "display_table(apple_avg_number_install)\n",
    "# print(apple_freq_table_by_catogory)\n"
   ]
  },
  {
   "cell_type": "markdown",
   "metadata": {},
   "source": [
    "Navigation ranked the first on this average total ranking. This result is out of expectation. Let's pull out the first 10 app of each with the highest rating_count_tot."
   ]
  },
  {
   "cell_type": "code",
   "execution_count": 30,
   "metadata": {
    "scrolled": true
   },
   "outputs": [
    {
     "name": "stdout",
     "output_type": "stream",
     "text": [
      "Waze - GPS Navigation, Maps & Real-time Traffic :  345046.0\n",
      "Google Maps - Navigation & Transit :  154911.0\n",
      "Geocaching® :  12811.0\n",
      "CoPilot GPS – Car Navigation & Offline Maps :  3582.0\n",
      "ImmobilienScout24: Real Estate Search in Germany :  187.0\n",
      "Railway Route Search :  5.0\n",
      "\n",
      "\n"
     ]
    }
   ],
   "source": [
    "apple_navigation_apps = []\n",
    "for app in apple_free_apps:\n",
    "    if app[11] == 'Navigation':\n",
    "        apple_navigation_apps.append((app[1],float(app[5])))\n",
    "apple_navigation_apps.sort(key=lambda x:x[1], reverse=True)\n",
    "for app in apple_navigation_apps:\n",
    "    print(app[0], ': ', app[1])\n",
    "print('\\n')"
   ]
  },
  {
   "cell_type": "markdown",
   "metadata": {},
   "source": [
    "Waze is a free navigation app for Android and iPhone. It offers community-based traffic (i.e., traffic details from other Waze users), aiming to help you avoid traffic and always be able to take the best route to your destination. At this point, we might be able infer that some functionality based app can build up significant user base. Now let's take a look at Reference."
   ]
  },
  {
   "cell_type": "code",
   "execution_count": 34,
   "metadata": {},
   "outputs": [
    {
     "name": "stdout",
     "output_type": "stream",
     "text": [
      "Bible :  985920.0\n",
      "Dictionary.com Dictionary & Thesaurus :  200047.0\n",
      "Dictionary.com Dictionary & Thesaurus for iPad :  54175.0\n",
      "Google Translate :  26786.0\n",
      "Muslim Pro: Ramadan 2017 Prayer Times, Azan, Quran :  18418.0\n",
      "New Furniture Mods - Pocket Wiki & Game Tools for Minecraft PC Edition :  17588.0\n",
      "Merriam-Webster Dictionary :  16849.0\n",
      "Night Sky :  12122.0\n",
      "City Maps for Minecraft PE - The Best Maps for Minecraft Pocket Edition (MCPE) :  8535.0\n",
      "LUCKY BLOCK MOD ™ for Minecraft PC Edition - The Best Pocket Wiki & Mods Installer Tools :  4693.0\n"
     ]
    }
   ],
   "source": [
    "apple_reference_apps = []\n",
    "for app in apple_free_apps:\n",
    "    if app[11] == 'Reference':\n",
    "        apple_reference_apps.append((app[1],float(app[5])))\n",
    "apple_reference_apps.sort(key=lambda x:x[1], reverse=True)\n",
    "for app in apple_reference_apps[:10]:\n",
    "    print(app[0], ': ', app[1])"
   ]
  },
  {
   "cell_type": "markdown",
   "metadata": {},
   "source": [
    "At this point, it appears that good functional apps (Bible, Wave) can outrun the big tech brand. Now let's take a look at the Social Networking, Music, Weather."
   ]
  },
  {
   "cell_type": "code",
   "execution_count": 35,
   "metadata": {},
   "outputs": [
    {
     "name": "stdout",
     "output_type": "stream",
     "text": [
      "Facebook :  2974676.0\n",
      "Pinterest :  1061624.0\n",
      "Skype for iPhone :  373519.0\n",
      "Messenger :  351466.0\n",
      "Tumblr :  334293.0\n",
      "WhatsApp Messenger :  287589.0\n",
      "Kik :  260965.0\n",
      "ooVoo – Free Video Call, Text and Voice :  177501.0\n",
      "TextNow - Unlimited Text + Calls :  164963.0\n",
      "Viber Messenger – Text & Call :  164249.0\n",
      "\n",
      "\n"
     ]
    }
   ],
   "source": [
    "# Social Networking\n",
    "apple_sn_apps = []\n",
    "for app in apple_free_apps:\n",
    "    if app[11] == 'Social Networking':\n",
    "        apple_sn_apps.append((app[1],float(app[5])))\n",
    "apple_sn_apps.sort(key=lambda x:x[1], reverse=True)\n",
    "for app in apple_sn_apps[:10]:\n",
    "    print(app[0], ': ', app[1])\n",
    "print('\\n')"
   ]
  },
  {
   "cell_type": "code",
   "execution_count": 36,
   "metadata": {
    "scrolled": true
   },
   "outputs": [
    {
     "name": "stdout",
     "output_type": "stream",
     "text": [
      "Pandora - Music & Radio :  1126879.0\n",
      "Spotify Music :  878563.0\n",
      "Shazam - Discover music, artists, videos & lyrics :  402925.0\n",
      "iHeartRadio – Free Music & Radio Stations :  293228.0\n",
      "SoundCloud - Music & Audio :  135744.0\n",
      "Magic Piano by Smule :  131695.0\n",
      "Smule Sing! :  119316.0\n",
      "TuneIn Radio - MLB NBA Audiobooks Podcasts Music :  110420.0\n",
      "Amazon Music :  106235.0\n",
      "SoundHound Song Search & Music Player :  82602.0\n",
      "\n",
      "\n"
     ]
    }
   ],
   "source": [
    "# Music\n",
    "apple_music_apps = []\n",
    "for app in apple_free_apps:\n",
    "    if app[11] == 'Music':\n",
    "        apple_music_apps.append((app[1],float(app[5])))\n",
    "apple_music_apps.sort(key=lambda x:x[1], reverse=True)\n",
    "for app in apple_music_apps[:10]:\n",
    "    print(app[0], ': ', app[1])\n",
    "print('\\n')"
   ]
  },
  {
   "cell_type": "code",
   "execution_count": null,
   "metadata": {},
   "outputs": [],
   "source": [
    "# Music\n",
    "apple_music_apps = []\n",
    "for app in apple_free_apps:\n",
    "    if app[11] == 'Music':\n",
    "        apple_music_apps.append((app[1],float(app[5])))\n",
    "apple_music_apps.sort(key=lambda x:x[1], reverse=True)\n",
    "for app in apple_music_apps:\n",
    "    print(app[0], ': ', app[1])\n",
    "print('\\n')"
   ]
  },
  {
   "cell_type": "code",
   "execution_count": 37,
   "metadata": {},
   "outputs": [
    {
     "name": "stdout",
     "output_type": "stream",
     "text": [
      "The Weather Channel: Forecast, Radar & Alerts :  495626.0\n",
      "The Weather Channel App for iPad – best local forecast, radar map, and storm tracking :  208648.0\n",
      "WeatherBug - Local Weather, Radar, Maps, Alerts :  188583.0\n",
      "MyRadar NOAA Weather Radar Forecast :  150158.0\n",
      "AccuWeather - Weather for Life :  144214.0\n",
      "Yahoo Weather :  112603.0\n",
      "Weather Underground: Custom Forecast & Local Radar :  49192.0\n",
      "NOAA Weather Radar - Weather Forecast & HD Radar :  45696.0\n",
      "Weather Live Free - Weather Forecast & Alerts :  35702.0\n",
      "Storm Radar :  22792.0\n",
      "\n",
      "\n"
     ]
    }
   ],
   "source": [
    "# Weather\n",
    "apple_weather_apps = []\n",
    "for app in apple_free_apps:\n",
    "    if app[11] == 'Weather':\n",
    "        apple_weather_apps.append((app[1],float(app[5])))\n",
    "apple_weather_apps.sort(key=lambda x:x[1], reverse=True)\n",
    "for app in apple_weather_apps[:10]:\n",
    "    print(app[0], ': ', app[1])\n",
    "print('\\n')"
   ]
  },
  {
   "cell_type": "markdown",
   "metadata": {},
   "source": [
    "## Most Popular Apps by Genre on Google Play\n",
    "\n",
    "For the Google Play market, we actually have data about the number of installs, so we should be able to get a clearer picture about genre popularity. However, the install numbers don't seem precise enough — we can see that most values are open-ended (100+, 1,000+, 5,000+, etc.):"
   ]
  },
  {
   "cell_type": "code",
   "execution_count": 38,
   "metadata": {},
   "outputs": [
    {
     "name": "stdout",
     "output_type": "stream",
     "text": [
      "Photo Editor & Candy Camera & Grid & ScrapBook :  10,000+\n",
      "U Launcher Lite – FREE Live Cool Themes, Hide Apps :  5,000,000+\n",
      "Sketch - Draw & Paint :  50,000,000+\n",
      "Pixel Draw - Number Art Coloring Book :  100,000+\n",
      "Paper flowers instructions :  50,000+\n",
      "Smoke Effect Photo Maker - Smoke Editor :  50,000+\n",
      "Infinite Painter :  1,000,000+\n",
      "Garden Coloring Book :  1,000,000+\n",
      "Kids Paint Free - Drawing Fun :  10,000+\n",
      "Text on Photo - Fonteee :  1,000,000+\n"
     ]
    }
   ],
   "source": [
    "for app in android_free_apps[:10]:\n",
    "    print(app[0],': ', app[5])"
   ]
  },
  {
   "cell_type": "markdown",
   "metadata": {},
   "source": [
    "For Android app, it is not clear that exactly how many installs each app has. For instance, we don't know whether an app with 100,000+ installs has 100,000 installs, 200,000, or 350,000. However, we don't need very precise data for our purposes — we only want to find out which app genres attract the most users.We're going to leave the numbers as they are, which means that we'll consider that an app with 100,000+ installs has 100,000 installs, and an app with 1,000,000+ installs has 1,000,000 installs, and so on. "
   ]
  },
  {
   "cell_type": "code",
   "execution_count": 17,
   "metadata": {},
   "outputs": [],
   "source": [
    "def trim(str):\n",
    "    str = str.replace('+','')\n",
    "    str = str.replace(',', '')\n",
    "    return str"
   ]
  },
  {
   "cell_type": "code",
   "execution_count": 39,
   "metadata": {},
   "outputs": [
    {
     "name": "stdout",
     "output_type": "stream",
     "text": [
      "COMMUNICATION : 38590581\n",
      "VIDEO_PLAYERS : 24727872\n",
      "SOCIAL : 23253652\n",
      "PHOTOGRAPHY : 17805627\n",
      "PRODUCTIVITY : 16787331\n",
      "GAME : 15516683\n",
      "TRAVEL_AND_LOCAL : 13984077\n",
      "ENTERTAINMENT : 11640705\n",
      "TOOLS : 10710881\n",
      "NEWS_AND_MAGAZINES : 9549178\n",
      "BOOKS_AND_REFERENCE : 8814199\n",
      "SHOPPING : 7036877\n",
      "PERSONALIZATION : 5201482\n",
      "WEATHER : 5145550\n",
      "HEALTH_AND_FITNESS : 4188821\n",
      "MAPS_AND_NAVIGATION : 4049274\n",
      "FAMILY : 3694276\n",
      "SPORTS : 3650602\n",
      "ART_AND_DESIGN : 1986335\n",
      "FOOD_AND_DRINK : 1924897\n",
      "EDUCATION : 1820673\n",
      "BUSINESS : 1712290\n",
      "LIFESTYLE : 1446158\n",
      "FINANCE : 1387692\n",
      "HOUSE_AND_HOME : 1360598\n",
      "DATING : 854028\n",
      "COMICS : 832613\n",
      "AUTO_AND_VEHICLES : 647317\n",
      "LIBRARIES_AND_DEMO : 638503\n",
      "PARENTING : 542603\n",
      "BEAUTY : 513151\n",
      "EVENTS : 253542\n",
      "MEDICAL : 120616\n",
      "['App', 'Category', 'Rating', 'Reviews', 'Size', 'Installs', 'Type', 'Price', 'Content Rating', 'Genres', 'Last Updated', 'Current Ver', 'Android Ver']\n"
     ]
    }
   ],
   "source": [
    "android_total_number_install = {}\n",
    "for app in android_free_apps:\n",
    "    if app[1] in android_total_number_install:\n",
    "        android_total_number_install[app[1]] += float(trim(app[5]))\n",
    "    else:\n",
    "        android_total_number_install[app[1]] = float(trim(app[5]))\n",
    "android_avg_number_install = {}\n",
    "android_freq_table_by_catogory = freq_table(android_free_apps, 1)\n",
    "for category in android_freq_table_by_catogory:\n",
    "    android_avg_number_install[category] = \\\n",
    "        int(android_total_number_install[category] / \\\n",
    "            (android_freq_table_by_catogory[category][1]))\n",
    "\n",
    "display_table(android_avg_number_install)\n",
    "print(android_header)"
   ]
  },
  {
   "cell_type": "markdown",
   "metadata": {},
   "source": [
    "Recall our ultimate goal of this project is that we need to recommend app catogory which can gain popularity on both Apple and Android platform. For the first 10 ranking catagories in Google, the markets are all occupied by those Gients tech companies, just as on Apple. However, \"Reference\" app still sheds some light here."
   ]
  },
  {
   "cell_type": "code",
   "execution_count": 40,
   "metadata": {},
   "outputs": [
    {
     "name": "stdout",
     "output_type": "stream",
     "text": [
      "E-Book Read - Read Book for free : 50,000+\n",
      "Download free book with green book : 100,000+\n",
      "Wikipedia : 10,000,000+\n",
      "Cool Reader : 10,000,000+\n",
      "Free Panda Radio Music : 100,000+\n",
      "Book store : 1,000,000+\n",
      "FBReader: Favorite Book Reader : 10,000,000+\n",
      "English Grammar Complete Handbook : 500,000+\n",
      "Free Books - Spirit Fanfiction and Stories : 1,000,000+\n",
      "Google Play Books : 1,000,000,000+\n",
      "AlReader -any text book reader : 5,000,000+\n",
      "Offline English Dictionary : 100,000+\n",
      "Offline: English to Tagalog Dictionary : 500,000+\n",
      "FamilySearch Tree : 1,000,000+\n",
      "Cloud of Books : 1,000,000+\n",
      "Recipes of Prophetic Medicine for free : 500,000+\n",
      "ReadEra – free ebook reader : 1,000,000+\n",
      "Anonymous caller detection : 10,000+\n",
      "Ebook Reader : 5,000,000+\n",
      "Litnet - E-books : 100,000+\n",
      "Read books online : 5,000,000+\n",
      "English to Urdu Dictionary : 500,000+\n",
      "eBoox: book reader fb2 epub zip : 1,000,000+\n",
      "English Persian Dictionary : 500,000+\n",
      "Flybook : 500,000+\n",
      "All Maths Formulas : 1,000,000+\n",
      "Ancestry : 5,000,000+\n",
      "HTC Help : 10,000,000+\n",
      "English translation from Bengali : 100,000+\n",
      "Pdf Book Download - Read Pdf Book : 100,000+\n",
      "Free Book Reader : 100,000+\n",
      "eBoox new: Reader for fb2 epub zip books : 50,000+\n",
      "Only 30 days in English, the guideline is guaranteed : 500,000+\n",
      "Moon+ Reader : 10,000,000+\n",
      "SH-02J Owner's Manual (Android 8.0) : 50,000+\n",
      "English-Myanmar Dictionary : 1,000,000+\n",
      "Golden Dictionary (EN-AR) : 1,000,000+\n",
      "All Language Translator Free : 1,000,000+\n",
      "Azpen eReader : 500,000+\n",
      "URBANO V 02 instruction manual : 100,000+\n",
      "Bible : 100,000,000+\n",
      "C Programs and Reference : 50,000+\n",
      "C Offline Tutorial : 1,000+\n",
      "C Programs Handbook : 50,000+\n",
      "Amazon Kindle : 100,000,000+\n",
      "Aab e Hayat Full Novel : 100,000+\n",
      "Aldiko Book Reader : 10,000,000+\n",
      "Google I/O 2018 : 500,000+\n",
      "R Language Reference Guide : 10,000+\n",
      "Learn R Programming Full : 5,000+\n",
      "R Programing Offline Tutorial : 1,000+\n",
      "Guide for R Programming : 5+\n",
      "Learn R Programming : 10+\n",
      "R Quick Reference Big Data : 1,000+\n",
      "V Made : 100,000+\n",
      "Wattpad 📖 Free Books : 100,000,000+\n",
      "Dictionary - WordWeb : 5,000,000+\n",
      "Guide (for X-MEN) : 100,000+\n",
      "AC Air condition Troubleshoot,Repair,Maintenance : 5,000+\n",
      "AE Bulletins : 1,000+\n",
      "Ae Allah na Dai (Rasa) : 10,000+\n",
      "50000 Free eBooks & Free AudioBooks : 5,000,000+\n",
      "Ag PhD Field Guide : 10,000+\n",
      "Ag PhD Deficiencies : 10,000+\n",
      "Ag PhD Planting Population Calculator : 1,000+\n",
      "Ag PhD Soybean Diseases : 1,000+\n",
      "Fertilizer Removal By Crop : 50,000+\n",
      "A-J Media Vault : 50+\n",
      "Al-Quran (Free) : 10,000,000+\n",
      "Al Quran (Tafsir & by Word) : 500,000+\n",
      "Al Quran Indonesia : 10,000,000+\n",
      "Al'Quran Bahasa Indonesia : 10,000,000+\n",
      "Al Quran Al karim : 1,000,000+\n",
      "Al-Muhaffiz : 50,000+\n",
      "Al Quran : EAlim - Translations & MP3 Offline : 5,000,000+\n",
      "Al-Quran 30 Juz free copies : 500,000+\n",
      "Koran Read &MP3 30 Juz Offline : 1,000,000+\n",
      "Hafizi Quran 15 lines per page : 1,000,000+\n",
      "Quran for Android : 10,000,000+\n",
      "Surah Al-Waqiah : 100,000+\n",
      "Hisnul Al Muslim - Hisn Invocations & Adhkaar : 100,000+\n",
      "Satellite AR : 1,000,000+\n",
      "Audiobooks from Audible : 100,000,000+\n",
      "Kinot & Eichah for Tisha B'Av : 10,000+\n",
      "AW Tozer Devotionals - Daily : 5,000+\n",
      "Tozer Devotional -Series 1 : 1,000+\n",
      "The Pursuit of God : 1,000+\n",
      "AY Sing : 5,000+\n",
      "Ay Hasnain k Nana Milad Naat : 10,000+\n",
      "Ay Mohabbat Teri Khatir Novel : 10,000+\n",
      "Arizona Statutes, ARS (AZ Law) : 1,000+\n",
      "Oxford A-Z of English Usage : 1,000,000+\n",
      "BD Fishpedia : 1,000+\n",
      "BD All Sim Offer : 10,000+\n",
      "Youboox - Livres, BD et magazines : 500,000+\n",
      "B&H Kids AR : 10,000+\n",
      "B y H Niños ES : 5,000+\n",
      "Dictionary.com: Find Definitions for English Words : 10,000,000+\n",
      "English Dictionary - Offline : 10,000,000+\n",
      "Bible KJV : 5,000,000+\n",
      "Borneo Bible, BM Bible : 10,000+\n",
      "MOD Black for BM : 100+\n",
      "BM Box : 1,000+\n",
      "Anime Mod for BM : 100+\n",
      "NOOK: Read eBooks & Magazines : 10,000,000+\n",
      "NOOK Audiobooks : 500,000+\n",
      "NOOK App for NOOK Devices : 500,000+\n",
      "Browsery by Barnes & Noble : 5,000+\n",
      "bp e-store : 1,000+\n",
      "Brilliant Quotes: Life, Love, Family & Motivation : 1,000,000+\n",
      "BR Ambedkar Biography & Quotes : 10,000+\n",
      "BU Alsace : 100+\n",
      "Catholic La Bu Zo Kam : 500+\n",
      "Khrifa Hla Bu (Solfa) : 10+\n",
      "Kristian Hla Bu : 10,000+\n",
      "SA HLA BU : 1,000+\n",
      "Learn SAP BW : 500+\n",
      "Learn SAP BW on HANA : 500+\n",
      "CA Laws 2018 (California Laws and Codes) : 5,000+\n",
      "Bootable Methods(USB-CD-DVD) : 10,000+\n",
      "cloudLibrary : 100,000+\n",
      "SDA Collegiate Quarterly : 500+\n",
      "Sabbath School : 100,000+\n",
      "Cypress College Library : 100+\n",
      "Stats Royale for Clash Royale : 1,000,000+\n",
      "GATE 21 years CS Papers(2011-2018 Solved) : 50+\n",
      "Learn CT Scan Of Head : 5,000+\n",
      "Easy Cv maker 2018 : 10,000+\n",
      "How to Write CV : 100,000+\n",
      "CW Nuclear : 1,000+\n",
      "CY Spray nozzle : 10+\n",
      "BibleRead En Cy Zh Yue : 5+\n",
      "CZ-Help : 5+\n",
      "Guide for DB Xenoverse : 10,000+\n",
      "Guide for DB Xenoverse 2 : 10,000+\n",
      "Guide for IMS DB : 10+\n",
      "DC HSEMA : 5,000+\n",
      "DC Public Library : 1,000+\n",
      "Painting Lulu DC Super Friends : 1,000+\n",
      "Dictionary : 10,000,000+\n",
      "Fix Error Google Playstore : 1,000+\n",
      "D. H. Lawrence Poems FREE : 1,000+\n",
      "Bilingual Dictionary Audio App : 5,000+\n",
      "DM Screen : 10,000+\n",
      "wikiHow: how to do anything : 1,000,000+\n",
      "Dr. Doug's Tips : 1,000+\n",
      "Bible du Semeur-BDS (French) : 50,000+\n",
      "La citadelle du musulman : 50,000+\n",
      "DV 2019 Entry Guide : 10,000+\n",
      "DV 2019 - EDV Photo & Form : 50,000+\n",
      "DV 2018 Winners Guide : 1,000+\n",
      "EB Annual Meetings : 1,000+\n",
      "EC - AP & Telangana : 5,000+\n",
      "TN Patta Citta & EC : 10,000+\n",
      "AP Stamps and Registration : 10,000+\n",
      "CompactiMa EC pH Calibration : 100+\n",
      "EGW Writings 2 : 100,000+\n",
      "EGW Writings : 1,000,000+\n",
      "Bible with EGW Comments : 100,000+\n",
      "My Little Pony AR Guide : 1,000,000+\n",
      "SDA Sabbath School Quarterly : 500,000+\n",
      "Duaa Ek Ibaadat : 5,000+\n",
      "Spanish English Translator : 10,000,000+\n",
      "Dictionary - Merriam-Webster : 10,000,000+\n",
      "JW Library : 10,000,000+\n",
      "Oxford Dictionary of English : Free : 10,000,000+\n",
      "English Hindi Dictionary : 10,000,000+\n",
      "English to Hindi Dictionary : 5,000,000+\n",
      "EP Research Service : 1,000+\n",
      "Hymnes et Louanges : 100,000+\n",
      "EU Charter : 1,000+\n",
      "EU Data Protection : 1,000+\n",
      "EU IP Codes : 100+\n",
      "EW PDF : 5+\n",
      "BakaReader EX : 100,000+\n",
      "EZ Quran : 50,000+\n",
      "FA Part 1 & 2 Past Papers Solved Free – Offline : 5,000+\n",
      "La Fe de Jesus : 1,000+\n",
      "La Fe de Jesús : 500+\n",
      "Le Fe de Jesus : 500+\n",
      "Florida - Pocket Brainbook : 1,000+\n",
      "Florida Statutes (FL Code) : 1,000+\n",
      "English To Shona Dictionary : 10,000+\n",
      "Greek Bible FP (Audio) : 1,000+\n",
      "Golden Dictionary (FR-AR) : 500,000+\n",
      "Fanfic-FR : 5,000+\n",
      "Bulgarian French Dictionary Fr : 10,000+\n",
      "Chemin (fr) : 1,000+\n",
      "The SCP Foundation DB fr nn5n : 1,000+\n"
     ]
    }
   ],
   "source": [
    "for app in android_free_apps:\n",
    "    if app[1] == 'BOOKS_AND_REFERENCE':\n",
    "        print(app[0], ':', app[5])"
   ]
  },
  {
   "cell_type": "markdown",
   "metadata": {},
   "source": []
  }
 ],
 "metadata": {
  "kernelspec": {
   "display_name": "Python 3",
   "language": "python",
   "name": "python3"
  },
  "language_info": {
   "codemirror_mode": {
    "name": "ipython",
    "version": 3
   },
   "file_extension": ".py",
   "mimetype": "text/x-python",
   "name": "python",
   "nbconvert_exporter": "python",
   "pygments_lexer": "ipython3",
   "version": "3.8.2"
  }
 },
 "nbformat": 4,
 "nbformat_minor": 2
}
